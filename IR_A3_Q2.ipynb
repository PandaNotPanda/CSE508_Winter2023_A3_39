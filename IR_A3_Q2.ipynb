{
  "nbformat": 4,
  "nbformat_minor": 0,
  "metadata": {
    "colab": {
      "provenance": []
    },
    "kernelspec": {
      "name": "python3",
      "display_name": "Python 3"
    },
    "language_info": {
      "name": "python"
    }
  },
  "cells": [
    {
      "cell_type": "markdown",
      "source": [
        "Krishnasai Addala 2020442"
      ],
      "metadata": {
        "id": "X1N4Sco-OYq2"
      }
    },
    {
      "cell_type": "code",
      "execution_count": 3,
      "metadata": {
        "colab": {
          "base_uri": "https://localhost:8080/"
        },
        "id": "8WV48MOiwBr1",
        "outputId": "ac72e81a-1789-417b-d516-b54bd94f06c3"
      },
      "outputs": [
        {
          "output_type": "stream",
          "name": "stdout",
          "text": [
            "--2023-04-25 04:52:40--  https://snap.stanford.edu/data/ca-GrQc.txt.gz\n",
            "Resolving snap.stanford.edu (snap.stanford.edu)... 171.64.75.80\n",
            "Connecting to snap.stanford.edu (snap.stanford.edu)|171.64.75.80|:443... connected.\n",
            "HTTP request sent, awaiting response... 200 OK\n",
            "Length: 109261 (107K) [application/x-gzip]\n",
            "Saving to: ‘ca-GrQc.txt.gz.1’\n",
            "\n",
            "ca-GrQc.txt.gz.1    100%[===================>] 106.70K   196KB/s    in 0.5s    \n",
            "\n",
            "2023-04-25 04:52:41 (196 KB/s) - ‘ca-GrQc.txt.gz.1’ saved [109261/109261]\n",
            "\n"
          ]
        }
      ],
      "source": [
        "!wget https://snap.stanford.edu/data/ca-GrQc.txt.gz\n",
        "!gunzip ca-GrQc.txt.gz"
      ]
    },
    {
      "cell_type": "code",
      "source": [
        "G = nx.read_edgelist('ca-GrQc.txt', create_using=nx.DiGraph())\n",
        "\n",
        "print(\"General Relativity and Quantum Cosmology collaboration network\")"
      ],
      "metadata": {
        "colab": {
          "base_uri": "https://localhost:8080/"
        },
        "id": "ewfBvg_30fky",
        "outputId": "96ca35e6-c1ce-459c-c393-032ed43aaf53"
      },
      "execution_count": 20,
      "outputs": [
        {
          "output_type": "stream",
          "name": "stdout",
          "text": [
            "General Relativity and Quantum Cosmology collaboration network\n"
          ]
        }
      ]
    },
    {
      "cell_type": "markdown",
      "source": [
        "Arxiv GR-QC (General Relativity and Quantum Cosmology) collaboration network is from the e-print arXiv and covers scientific collaborations between authors papers submitted to General Relativity and Quantum Cosmology category. If an author i co-authored a paper with author j, the graph contains a undirected edge from i to j. If the paper is co-authored by k authors this generates a completely connected (sub)graph on k nodes.\n",
        "\n",
        "The data covers papers in the period from January 1993 to April 2003 (124 months). It begins within a few months of the inception of the arXiv, and thus represents essentially the complete history of its GR-QC section.\n",
        "\n",
        "-https://snap.stanford.edu/data/ca-GrQc.html"
      ],
      "metadata": {
        "id": "-IsXRUwvSj8h"
      }
    },
    {
      "cell_type": "code",
      "source": [
        "import networkx as nx\n",
        "\n",
        "# Read the graph from the file\n",
        "G = nx.read_edgelist('ca-GrQc.txt', create_using=nx.DiGraph())\n",
        "\n",
        "# Calculate PageRank score for each node\n",
        "pr_scores = nx.pagerank(G)\n",
        "\n",
        "# Calculate Authority and Hub score for each node\n",
        "auth_scores, hub_scores = nx.hits(G)\n",
        "\n",
        "# Print the scores for the first 10 nodes\n",
        "for node in list(G.nodes())[:10]:\n",
        "    print(f\"Node {node} \\n PageRank Score: {pr_scores[node]:}\\n Authority Score: {auth_scores[node]:}\\n Hub Score: {hub_scores[node]:}\\n_____________________________________\")\n"
      ],
      "metadata": {
        "colab": {
          "base_uri": "https://localhost:8080/"
        },
        "id": "ZAh_RzvLwKOM",
        "outputId": "ba6de5fc-5297-41d1-c451-6c0b2da55c91"
      },
      "execution_count": 21,
      "outputs": [
        {
          "output_type": "stream",
          "name": "stdout",
          "text": [
            "Node 3466 \n",
            " PageRank Score: 0.00028791038987549284\n",
            " Authority Score: 4.13476542797613e-06\n",
            " Hub Score: 4.134765427988068e-06\n",
            "_____________________________________\n",
            "Node 937 \n",
            " PageRank Score: 0.00019009872909030306\n",
            " Authority Score: 1.7295705867898135e-06\n",
            " Hub Score: 1.7295705867892513e-06\n",
            "_____________________________________\n",
            "Node 5233 \n",
            " PageRank Score: 8.892996087934685e-05\n",
            " Authority Score: 7.916819286150565e-07\n",
            " Hub Score: 7.91681928614737e-07\n",
            "_____________________________________\n",
            "Node 8579 \n",
            " PageRank Score: 0.00019347739396011744\n",
            " Authority Score: 6.08069361893927e-07\n",
            " Hub Score: 6.08069361893291e-07\n",
            "_____________________________________\n",
            "Node 10310 \n",
            " PageRank Score: 0.00045337346602052374\n",
            " Authority Score: 3.1979121660690474e-05\n",
            " Hub Score: 3.197912166068932e-05\n",
            "_____________________________________\n",
            "Node 15931 \n",
            " PageRank Score: 0.0003559651569003916\n",
            " Authority Score: 1.1239891345233454e-05\n",
            " Hub Score: 1.1239891345233795e-05\n",
            "_____________________________________\n",
            "Node 17038 \n",
            " PageRank Score: 0.0005581343689319253\n",
            " Authority Score: 0.0001415630450552214\n",
            " Hub Score: 0.00014156304505522015\n",
            "_____________________________________\n",
            "Node 18720 \n",
            " PageRank Score: 0.0001229699290307287\n",
            " Authority Score: 3.4488686641766075e-07\n",
            " Hub Score: 3.4488686641723125e-07\n",
            "_____________________________________\n",
            "Node 19607 \n",
            " PageRank Score: 0.0001573058715340158\n",
            " Authority Score: 3.579309011791794e-07\n",
            " Hub Score: 3.5793090117902546e-07\n",
            "_____________________________________\n",
            "Node 1854 \n",
            " PageRank Score: 0.0003632799362289024\n",
            " Authority Score: 9.685255245547119e-07\n",
            " Hub Score: 9.68525524554726e-07\n",
            "_____________________________________\n"
          ]
        }
      ]
    },
    {
      "cell_type": "code",
      "source": [
        "from scipy.stats import spearmanr\n",
        "# Compute the PageRank scores\n",
        "pr_scores = nx.pagerank(G)\n",
        "\n",
        "# Compute the HITS scores\n",
        "hubs, authorities = nx.hits(G)\n",
        "\n",
        "# Get the PageRank and authority scores as arrays\n",
        "pr_scores_arr = list(pr_scores.values())\n",
        "authority_scores_arr = list(authorities.values())\n",
        "\n",
        "# Compute the Spearman's rank correlation coefficient\n",
        "corr, p_value = spearmanr(pr_scores_arr, authority_scores_arr)\n",
        "\n",
        "print(\"Spearman's rank correlation coefficient between PageRank and authority scores: \", corr)\n",
        "if corr > 0:\n",
        "    print(\"There is a positive correlation between PageRank and hub scores.\")\n",
        "elif corr < 0:\n",
        "    print(\"There is a negative correlation between PageRank and hub scores.\")\n",
        "else:\n",
        "    print(\"There is no correlation between PageRank and hub scores.\")\n"
      ],
      "metadata": {
        "colab": {
          "base_uri": "https://localhost:8080/"
        },
        "id": "5ofj0Vs4VRLX",
        "outputId": "6bd90c0c-f40e-4dc4-a6a7-b0e009116a6c"
      },
      "execution_count": 26,
      "outputs": [
        {
          "output_type": "stream",
          "name": "stdout",
          "text": [
            "Spearman's rank correlation coefficient between PageRank and authority scores:  0.058605611839108396\n",
            "There is a positive correlation between PageRank and hub scores.\n"
          ]
        }
      ]
    },
    {
      "cell_type": "code",
      "source": [
        "hub_scores_arr = list(hubs.values())\n",
        "\n",
        "# Compute the Spearman's rank correlation coefficient\n",
        "corr, p_value = spearmanr(pr_scores_arr, hub_scores_arr)\n",
        "\n",
        "print(\"Spearman's rank correlation coefficient between PageRank and hub scores: \", corr)\n",
        "if corr > 0:\n",
        "    print(\"There is a positive correlation between PageRank and hub scores.\")\n",
        "elif corr < 0:\n",
        "    print(\"There is a negative correlation between PageRank and hub scores.\")\n",
        "else:\n",
        "    print(\"There is no correlation between PageRank and hub scores.\")"
      ],
      "metadata": {
        "colab": {
          "base_uri": "https://localhost:8080/"
        },
        "id": "rnaQYsWBVolU",
        "outputId": "7ab151e7-12d0-480c-9f94-5a527d2199e8"
      },
      "execution_count": 27,
      "outputs": [
        {
          "output_type": "stream",
          "name": "stdout",
          "text": [
            "Spearman's rank correlation coefficient between PageRank and hub scores:  0.058521736826140806\n",
            "There is a positive correlation between PageRank and hub scores.\n"
          ]
        }
      ]
    },
    {
      "cell_type": "markdown",
      "source": [
        "We can see the scores have a weak positive correlation\n",
        "This shows that the two algorithms rank nodes in a similar way based on their importance in the network to some extent, but there are also differences in their ranking methodologies that lead to variations in the rankings."
      ],
      "metadata": {
        "id": "WfUcUf_pMH0h"
      }
    },
    {
      "cell_type": "markdown",
      "source": [
        "# Testing"
      ],
      "metadata": {
        "id": "iKEhv1D5MC65"
      }
    },
    {
      "cell_type": "code",
      "source": [
        "!wget https://snap.stanford.edu/data/web-BerkStan.txt.gz\n",
        "!gunzip web-BerkStan.txt.gz"
      ],
      "metadata": {
        "colab": {
          "base_uri": "https://localhost:8080/"
        },
        "id": "q3mRivVIzUzH",
        "outputId": "d68395d4-ad12-4722-8040-729108102307"
      },
      "execution_count": 8,
      "outputs": [
        {
          "output_type": "stream",
          "name": "stdout",
          "text": [
            "--2023-04-25 05:14:35--  https://snap.stanford.edu/data/web-BerkStan.txt.gz\n",
            "Resolving snap.stanford.edu (snap.stanford.edu)... 171.64.75.80\n",
            "Connecting to snap.stanford.edu (snap.stanford.edu)|171.64.75.80|:443... connected.\n",
            "HTTP request sent, awaiting response... 200 OK\n",
            "Length: 19657604 (19M) [application/x-gzip]\n",
            "Saving to: ‘web-BerkStan.txt.gz’\n",
            "\n",
            "web-BerkStan.txt.gz 100%[===================>]  18.75M  3.75MB/s    in 5.0s    \n",
            "\n",
            "2023-04-25 05:14:40 (3.75 MB/s) - ‘web-BerkStan.txt.gz’ saved [19657604/19657604]\n",
            "\n"
          ]
        }
      ]
    },
    {
      "cell_type": "code",
      "source": [
        "# Load the web graph data from file\n",
        "G = nx.read_edgelist('web-BerkStan.txt', create_using=nx.DiGraph())\n",
        "\n",
        "# Calculate the PageRank scores for each node\n",
        "pagerank_scores = nx.pagerank(G)\n",
        "\n",
        "# Print the PageRank score for each node\n",
        "c=0\n",
        "for node, score in pagerank_scores.items():\n",
        "    print(f\"Node {node}: PageRank score = {score}\")\n",
        "    c+=1\n",
        "    if(c==11):\n",
        "      break"
      ],
      "metadata": {
        "colab": {
          "base_uri": "https://localhost:8080/"
        },
        "id": "Yrrdj-RC1Eji",
        "outputId": "d8821be1-d778-4542-c38d-54d5ae852fe0"
      },
      "execution_count": 10,
      "outputs": [
        {
          "output_type": "stream",
          "name": "stdout",
          "text": [
            "Node 1: PageRank score = 1.830613564418469e-05\n",
            "Node 2: PageRank score = 5.277322767121117e-06\n",
            "Node 5: PageRank score = 4.766957674528825e-06\n",
            "Node 7: PageRank score = 6.056233907510717e-06\n",
            "Node 8: PageRank score = 4.471529709624802e-06\n",
            "Node 9: PageRank score = 5.319262487423507e-06\n",
            "Node 11: PageRank score = 5.307838927805759e-06\n",
            "Node 17: PageRank score = 5.205971814401508e-06\n",
            "Node 254913: PageRank score = 0.00017619621311662766\n",
            "Node 438238: PageRank score = 0.008911562616865812\n",
            "Node 255378: PageRank score = 1.3686104039355115e-06\n"
          ]
        }
      ]
    },
    {
      "cell_type": "code",
      "source": [
        "# Calculate the Authority and Hub scores for each node\n",
        "authority_scores, hub_scores = nx.hits(G)\n",
        "\n",
        "# Print the Authority and Hub score for each node\n",
        "c=0\n",
        "for node in G.nodes():\n",
        "    print(f\"Node {node}: Authority score = {authority_scores[node]}, Hub score = {hub_scores[node]}\")\n",
        "    c+=1\n",
        "    if(c==11):\n",
        "      break\n"
      ],
      "metadata": {
        "colab": {
          "base_uri": "https://localhost:8080/"
        },
        "id": "ApqOVeBB2WPe",
        "outputId": "a04f4b07-24d6-4db1-9ae4-d130a30503b6"
      },
      "execution_count": 11,
      "outputs": [
        {
          "output_type": "stream",
          "name": "stdout",
          "text": [
            "Node 1: Authority score = 9.7301708837177e-14, Hub score = 3.9695641325593297e-13\n",
            "Node 2: Authority score = 9.729935728728732e-14, Hub score = 4.9284734820914475e-14\n",
            "Node 5: Authority score = 9.730213926984448e-14, Hub score = 2.4641583057780242e-14\n",
            "Node 7: Authority score = 9.732734826966046e-14, Hub score = 4.9374902950594086e-14\n",
            "Node 8: Authority score = 9.732118599516126e-14, Hub score = 2.0533393060458612e-14\n",
            "Node 9: Authority score = 9.734076690139677e-14, Hub score = 4.928298170733057e-14\n",
            "Node 11: Authority score = 9.729978588465466e-14, Hub score = 4.9284729449820245e-14\n",
            "Node 17: Authority score = 9.736335996302806e-14, Hub score = 4.116291720915711e-14\n",
            "Node 254913: Authority score = 9.73558042275669e-14, Hub score = 5.479619100086703e-12\n",
            "Node 438238: Authority score = 1.6399591121187003e-13, Hub score = 1.8633873585971095e-09\n",
            "Node 255378: Authority score = 5.930464175498182e-18, Hub score = 4.108675700437733e-15\n"
          ]
        }
      ]
    }
  ]
}